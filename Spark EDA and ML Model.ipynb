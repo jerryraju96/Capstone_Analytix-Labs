{
 "cells": [
  {
   "cell_type": "code",
   "execution_count": 1,
   "metadata": {},
   "outputs": [],
   "source": [
    "from pyspark.sql import SparkSession\n",
    "\n",
    "spark = (SparkSession.builder.appName(\"Capstone\")\\\n",
    "         .config(\"hive.metastore.uris\",\"thrift://ip-10-1-2-24.ap-south-1.compute.internal:9083\")\\\n",
    "         .enableHiveSupport().getOrCreate())"
   ]
  },
  {
   "cell_type": "code",
   "execution_count": 2,
   "metadata": {},
   "outputs": [
    {
     "data": {
      "text/html": [
       "\n",
       "            <div>\n",
       "                <p><b>SparkSession - hive</b></p>\n",
       "                \n",
       "        <div>\n",
       "            <p><b>SparkContext</b></p>\n",
       "\n",
       "            <p><a href=\"http://ip-10-1-1-204.ap-south-1.compute.internal:43002\">Spark UI</a></p>\n",
       "\n",
       "            <dl>\n",
       "              <dt>Version</dt>\n",
       "                <dd><code>v2.4.0</code></dd>\n",
       "              <dt>Master</dt>\n",
       "                <dd><code>local[*]</code></dd>\n",
       "              <dt>AppName</dt>\n",
       "                <dd><code>Capstone</code></dd>\n",
       "            </dl>\n",
       "        </div>\n",
       "        \n",
       "            </div>\n",
       "        "
      ],
      "text/plain": [
       "<pyspark.sql.session.SparkSession at 0x7f7b0c7832d0>"
      ]
     },
     "execution_count": 2,
     "metadata": {},
     "output_type": "execute_result"
    }
   ],
   "source": [
    "spark"
   ]
  },
  {
   "cell_type": "code",
   "execution_count": 3,
   "metadata": {},
   "outputs": [],
   "source": [
    "dept_manager_j=spark.sql(\"select * from jerryalab.dept_managers_j\")"
   ]
  },
  {
   "cell_type": "code",
   "execution_count": 4,
   "metadata": {},
   "outputs": [],
   "source": [
    "dept_emp_j=spark.sql(\"select * from jerryalab.dept_emp_j\")"
   ]
  },
  {
   "cell_type": "code",
   "execution_count": 5,
   "metadata": {},
   "outputs": [],
   "source": [
    "departments_j=spark.sql(\"select * from jerryalab.departments_j\")"
   ]
  },
  {
   "cell_type": "code",
   "execution_count": 6,
   "metadata": {},
   "outputs": [],
   "source": [
    "salaries_j=spark.sql(\"select * from jerryalab.salaries_j\")"
   ]
  },
  {
   "cell_type": "code",
   "execution_count": 7,
   "metadata": {},
   "outputs": [],
   "source": [
    "titles_j=spark.sql(\"select * from jerryalab.titles_j\")"
   ]
  },
  {
   "cell_type": "code",
   "execution_count": 8,
   "metadata": {},
   "outputs": [],
   "source": [
    "\n",
    "employeesj=spark.sql(\"select * from jerryalab.employees_j\")"
   ]
  },
  {
   "cell_type": "code",
   "execution_count": 9,
   "metadata": {},
   "outputs": [],
   "source": [
    "dept_manager_j.createOrReplaceTempView(\"dept_manager\")"
   ]
  },
  {
   "cell_type": "code",
   "execution_count": 10,
   "metadata": {},
   "outputs": [],
   "source": [
    "dept_emp_j.createOrReplaceTempView(\"dept_employee\")"
   ]
  },
  {
   "cell_type": "code",
   "execution_count": 11,
   "metadata": {},
   "outputs": [],
   "source": [
    "departments_j.createOrReplaceTempView(\"department\")"
   ]
  },
  {
   "cell_type": "code",
   "execution_count": 12,
   "metadata": {},
   "outputs": [],
   "source": [
    "salaries_j.createOrReplaceTempView(\"salary\")"
   ]
  },
  {
   "cell_type": "code",
   "execution_count": 13,
   "metadata": {},
   "outputs": [],
   "source": [
    "titles_j.createOrReplaceTempView(\"title\")"
   ]
  },
  {
   "cell_type": "code",
   "execution_count": 14,
   "metadata": {},
   "outputs": [],
   "source": [
    "employeesj.createOrReplaceTempView(\"employee\")"
   ]
  },
  {
   "cell_type": "markdown",
   "metadata": {},
   "source": [
    "Querries and EDA"
   ]
  },
  {
   "cell_type": "code",
   "execution_count": 15,
   "metadata": {},
   "outputs": [],
   "source": [
    "#list showing employee number, last name, first name, sex, and salary for each employee\n",
    "Querry1=spark.sql(\"select e.emp_no, e.last_name,e.first_name, e.sex, s.salary FROM employee e JOIN salary s ON e.emp_no = s.emp_no\")"
   ]
  },
  {
   "cell_type": "code",
   "execution_count": 16,
   "metadata": {},
   "outputs": [
    {
     "name": "stdout",
     "output_type": "stream",
     "text": [
      "+------+----------+----------+---+------+\n",
      "|emp_no| last_name|first_name|sex|salary|\n",
      "+------+----------+----------+---+------+\n",
      "|473302|  Zallocco|  Hideyuki|  M| 40000|\n",
      "|475053| Delgrande|     Byong|  F| 53422|\n",
      "| 57444|      Babb|     Berry|  F| 48973|\n",
      "|421786|  Verhoeff|     Xiong|  M| 40000|\n",
      "|282238|   Baumann|Abdelkader|  F| 40000|\n",
      "|263976|  Cusworth|      Eran|  M| 40000|\n",
      "|273487|   Parfitt| Christoph|  M| 56087|\n",
      "|461591|  Samarati|    Xudong|  M| 40000|\n",
      "|477657| Magliocco|    Lihong|  M| 54816|\n",
      "|219881|     Speek| Kwangyoen|  F| 40000|\n",
      "| 29920|     Tyugu|   Shuichi|  F| 40000|\n",
      "|208153|      Lunn|   Abdulah|  M| 50183|\n",
      "| 13616|     Lorho|     Perry|  F| 40000|\n",
      "|246449|Bultermann|     Subbu|  F| 87084|\n",
      "| 21529|  Zallocco|     Bojan|  M| 40000|\n",
      "| 17934|  Wuwongse|  Bilhanan|  M| 48795|\n",
      "| 48085|      Gilg|Venkatesan|  M| 63016|\n",
      "|239838|     Dulli|   Naftali|  M| 57715|\n",
      "|240129|    Karnin|     Roddy|  M| 43548|\n",
      "|205246|    Demizu|     Nevio|  F| 80252|\n",
      "+------+----------+----------+---+------+\n",
      "only showing top 20 rows\n",
      "\n"
     ]
    }
   ],
   "source": [
    "Querry1.show()"
   ]
  },
  {
   "cell_type": "code",
   "execution_count": 17,
   "metadata": {},
   "outputs": [],
   "source": [
    "# A list showing first name, last name, and hire date for employees who were hired in 1986.\n",
    "Querry2=spark.sql('SELECT first_name, last_name, hire_date FROM employee WHERE year(hire_date)=1986 ORDER BY hire_date')"
   ]
  },
  {
   "cell_type": "code",
   "execution_count": 18,
   "metadata": {},
   "outputs": [],
   "source": [
    "#A list showing the manager of each department with the following information: department number, department name, the manager's employee number, last name, first name.\n",
    "Querry3=spark.sql(\"SELECT d.dept_no, d.dept_name,dm.emp_no, e.first_name, e.last_name from department d join dept_manager dm on d.dept_no =dm.dept_no join employee e on dm.emp_no = e.emp_no\")"
   ]
  },
  {
   "cell_type": "code",
   "execution_count": 19,
   "metadata": {},
   "outputs": [
    {
     "name": "stdout",
     "output_type": "stream",
     "text": [
      "+-------+--------------------+------+-----------+------------+\n",
      "|dept_no|           dept_name|emp_no| first_name|   last_name|\n",
      "+-------+--------------------+------+-----------+------------+\n",
      "|   d009|  \"Customer Service\"|111877|    Xiaobin|    Spinelli|\n",
      "|   d008|          \"Research\"|111534|     Hilary|      Kambil|\n",
      "|   d006|\"Quality Management\"|110765|     Rutger|     Hofmeyr|\n",
      "|   d004|        \"Production\"|110420|      Oscar|    Ghazalie|\n",
      "|   d006|\"Quality Management\"|110725|  Peternela|     Onuegbe|\n",
      "|   d001|         \"Marketing\"|110022|  Margareta|  Markovitch|\n",
      "|   d007|             \"Sales\"|111035|Przemyslawa|   Kaelbling|\n",
      "|   d005|       \"development\"|110511|   DeForest|    Hagimont|\n",
      "|   d005|       \"development\"|110567|       Leon|    DasSarma|\n",
      "|   d003|   \"Human Resources\"|110183|    Shirish|Ossenbruggen|\n",
      "|   d009|  \"Customer Service\"|111939|    Yuchang|     Weedman|\n",
      "|   d002|           \"Finance\"|110114|      Isamu|  Legleitner|\n",
      "|   d006|\"Quality Management\"|110854|       Dung|       Pesch|\n",
      "|   d001|         \"Marketing\"|110039|   Vishwani|    Minakawa|\n",
      "|   d006|\"Quality Management\"|110800|     Sanjoy|     Quadeer|\n",
      "|   d003|   \"Human Resources\"|110228|    Karsten|     Sigstam|\n",
      "|   d004|        \"Production\"|110303|  Krassimir|     Wegerle|\n",
      "|   d004|        \"Production\"|110344|     Rosine|       Cools|\n",
      "|   d009|  \"Customer Service\"|111692|      Tonny| Butterworth|\n",
      "|   d008|          \"Research\"|111400|       Arie|     Staelin|\n",
      "+-------+--------------------+------+-----------+------------+\n",
      "only showing top 20 rows\n",
      "\n"
     ]
    }
   ],
   "source": [
    "Querry3.show()"
   ]
  },
  {
   "cell_type": "code",
   "execution_count": 20,
   "metadata": {},
   "outputs": [],
   "source": [
    "#A list showing the department of each employee with the following information: employee number, last name, first name, and department name.\n",
    "Querry4=spark.sql(\"select de.emp_no, e.first_name, e.last_name, d.dept_name from dept_emp de join employee e on de.emp_no = e.emp_no join department d on de.dept_no = d.dept_no \")"
   ]
  },
  {
   "cell_type": "code",
   "execution_count": 21,
   "metadata": {},
   "outputs": [
    {
     "name": "stdout",
     "output_type": "stream",
     "text": [
      "+------+----------+----------+--------------------+\n",
      "|emp_no|first_name| last_name|           dept_name|\n",
      "+------+----------+----------+--------------------+\n",
      "|473302|  Hideyuki|  Zallocco|           \"Finance\"|\n",
      "|475053|     Byong| Delgrande|        \"Production\"|\n",
      "| 57444|     Berry|      Babb|        \"Production\"|\n",
      "|421786|     Xiong|  Verhoeff|   \"Human Resources\"|\n",
      "|282238|Abdelkader|   Baumann|\"Quality Management\"|\n",
      "|263976|      Eran|  Cusworth|\"Quality Management\"|\n",
      "|273487| Christoph|   Parfitt|   \"Human Resources\"|\n",
      "|461591|    Xudong|  Samarati|           \"Finance\"|\n",
      "|477657|    Lihong| Magliocco|\"Quality Management\"|\n",
      "|219881| Kwangyoen|     Speek|  \"Customer Service\"|\n",
      "| 29920|   Shuichi|     Tyugu|        \"Production\"|\n",
      "|208153|   Abdulah|      Lunn|       \"development\"|\n",
      "| 13616|     Perry|     Lorho|          \"Research\"|\n",
      "| 13616|     Perry|     Lorho|       \"development\"|\n",
      "|246449|     Subbu|Bultermann|             \"Sales\"|\n",
      "| 21529|     Bojan|  Zallocco|       \"development\"|\n",
      "| 17934|  Bilhanan|  Wuwongse|       \"development\"|\n",
      "| 48085|Venkatesan|      Gilg|           \"Finance\"|\n",
      "|239838|   Naftali|     Dulli|        \"Production\"|\n",
      "|240129|     Roddy|    Karnin|\"Quality Management\"|\n",
      "+------+----------+----------+--------------------+\n",
      "only showing top 20 rows\n",
      "\n"
     ]
    }
   ],
   "source": [
    "Querry4.show()"
   ]
  },
  {
   "cell_type": "code",
   "execution_count": 22,
   "metadata": {},
   "outputs": [],
   "source": [
    "#A list showing first name, last name, and sex for employees whose first name is \"Hercules\" and last names begin with \"B.“\n",
    "Querry5=spark.sql(\"select first_name, last_name, sex from employee where first_name = 'Hercules' and  last_name Like 'B%'\")"
   ]
  },
  {
   "cell_type": "code",
   "execution_count": 23,
   "metadata": {},
   "outputs": [
    {
     "name": "stdout",
     "output_type": "stream",
     "text": [
      "+----------+-------------+---+\n",
      "|first_name|    last_name|sex|\n",
      "+----------+-------------+---+\n",
      "|  Hercules|         Baer|  M|\n",
      "|  Hercules|        Biron|  F|\n",
      "|  Hercules|        Birge|  F|\n",
      "|  Hercules|      Berstel|  F|\n",
      "|  Hercules|    Bernatsky|  M|\n",
      "|  Hercules|         Bail|  F|\n",
      "|  Hercules|       Bodoff|  M|\n",
      "|  Hercules|     Benantar|  F|\n",
      "|  Hercules|      Basagni|  M|\n",
      "|  Hercules|Bernardinello|  F|\n",
      "|  Hercules|   Baranowski|  M|\n",
      "|  Hercules|      Bisiani|  F|\n",
      "|  Hercules|   Benzmuller|  M|\n",
      "|  Hercules|         Bahr|  M|\n",
      "|  Hercules|        Biran|  F|\n",
      "|  Hercules|         Bain|  F|\n",
      "|  Hercules|      Brendel|  F|\n",
      "|  Hercules|      Buchter|  M|\n",
      "|  Hercules|     Barreiro|  M|\n",
      "|  Hercules|         Baak|  M|\n",
      "+----------+-------------+---+\n",
      "\n"
     ]
    }
   ],
   "source": [
    "Querry5.show()"
   ]
  },
  {
   "cell_type": "code",
   "execution_count": 24,
   "metadata": {},
   "outputs": [],
   "source": [
    "#A list showing all employees in the Sales department, including their employee number, last name, first name, and department name.\n",
    "Querry6=spark.sql(\"\"\"select E.first_name,E.last_name,D.dept_no,D.dept_name\n",
    "from dept_employee DE\n",
    "join employee E\n",
    "on DE.emp_no = E.emp_no\n",
    "join department D\n",
    "on DE.dept_no =D.dept_no\n",
    "where D.dept_name = '\"Sales\"'\n",
    "\"\"\")"
   ]
  },
  {
   "cell_type": "code",
   "execution_count": 25,
   "metadata": {},
   "outputs": [
    {
     "name": "stdout",
     "output_type": "stream",
     "text": [
      "+----------+-------------+-------+---------+\n",
      "|first_name|    last_name|dept_no|dept_name|\n",
      "+----------+-------------+-------+---------+\n",
      "|     Subbu|   Bultermann|   d007|  \"Sales\"|\n",
      "|     Nevio|       Demizu|   d007|  \"Sales\"|\n",
      "|      Ziya|       Asmuth|   d007|  \"Sales\"|\n",
      "|    Kellyn|    Yoshizawa|   d007|  \"Sales\"|\n",
      "|   Elliott|         Perl|   d007|  \"Sales\"|\n",
      "|       Gad|     Nollmann|   d007|  \"Sales\"|\n",
      "|      Giap|     Verspoor|   d007|  \"Sales\"|\n",
      "|      Duro|Beutelspacher|   d007|  \"Sales\"|\n",
      "|  Harngdar|        Swick|   d007|  \"Sales\"|\n",
      "| Nectarios|       Covnot|   d007|  \"Sales\"|\n",
      "|  Kazuhira|    Shimshoni|   d007|  \"Sales\"|\n",
      "|   Gilbert|    Naumovich|   d007|  \"Sales\"|\n",
      "|    Reuven|        Munke|   d007|  \"Sales\"|\n",
      "|     Tonny|     Skafidas|   d007|  \"Sales\"|\n",
      "|    Parviz|       Zaumen|   d007|  \"Sales\"|\n",
      "| Yechezkel|         Pews|   d007|  \"Sales\"|\n",
      "| Stabislas|      Domenig|   d007|  \"Sales\"|\n",
      "|   Chikara|     Businaro|   d007|  \"Sales\"|\n",
      "|   Candido|       Vecchi|   d007|  \"Sales\"|\n",
      "|    Shmuel|        Georg|   d007|  \"Sales\"|\n",
      "+----------+-------------+-------+---------+\n",
      "only showing top 20 rows\n",
      "\n"
     ]
    }
   ],
   "source": [
    "Querry6.show()"
   ]
  },
  {
   "cell_type": "code",
   "execution_count": 26,
   "metadata": {},
   "outputs": [],
   "source": [
    "#A list showing all employees in the Sales and Development departments, including their employee number, last name, first name, and department name.\n",
    "Querry7=spark.sql(\"\"\"select E.first_name,E.last_name,D.dept_no,D.dept_name\n",
    "from dept_employee DE\n",
    "join employee E\n",
    "on DE.emp_no = E.emp_no\n",
    "join department D\n",
    "on DE.dept_no =D.dept_no\n",
    "where D.dept_name = '\"Sales\"'\n",
    "or D.dept_name='\"devolopment\"'\n",
    "\"\"\")"
   ]
  },
  {
   "cell_type": "code",
   "execution_count": 27,
   "metadata": {},
   "outputs": [],
   "source": [
    "#A list showing the frequency count of employee last names, in descending order. ( i.e., how many employees share each last name\n",
    "Querry8=spark.sql(\"select last_name,count(last_name) as No_of_Names from employee group by last_name order by count(last_name) desc\")\n"
   ]
  },
  {
   "cell_type": "code",
   "execution_count": 28,
   "metadata": {},
   "outputs": [
    {
     "name": "stdout",
     "output_type": "stream",
     "text": [
      "+-----------+-----------+\n",
      "|  last_name|No_of_Names|\n",
      "+-----------+-----------+\n",
      "|       Baba|        226|\n",
      "|     Gelosh|        223|\n",
      "|      Coorg|        223|\n",
      "|    Sudbeck|        222|\n",
      "|     Farris|        222|\n",
      "|     Adachi|        221|\n",
      "|     Osgood|        220|\n",
      "|     Neiman|        218|\n",
      "|     Masada|        218|\n",
      "|    Mandell|        218|\n",
      "|    Wendorf|        217|\n",
      "|Boudaillier|        217|\n",
      "|    Solares|        216|\n",
      "|     Pettis|        216|\n",
      "|     Mahnke|        216|\n",
      "|   Cummings|        216|\n",
      "|    Kulisch|        215|\n",
      "| Maksimenko|        215|\n",
      "|   Birjandi|        215|\n",
      "|   Collette|        215|\n",
      "+-----------+-----------+\n",
      "only showing top 20 rows\n",
      "\n"
     ]
    }
   ],
   "source": [
    "Querry8.show()"
   ]
  },
  {
   "cell_type": "code",
   "execution_count": 29,
   "metadata": {},
   "outputs": [],
   "source": [
    "# Histogram to show the salary distribution among the employees\n",
    "Querry9=spark.sql(\"SELECT title, sum(salary) as sum_Salary from title t JOIN employee e  on t.title_id = e.emp_title_id JOIN salary s on e.emp_no =  s.emp_no GROUP BY title\")"
   ]
  },
  {
   "cell_type": "code",
   "execution_count": 30,
   "metadata": {},
   "outputs": [
    {
     "name": "stdout",
     "output_type": "stream",
     "text": [
      "+------------------+----------+\n",
      "|             title|sum_Salary|\n",
      "+------------------+----------+\n",
      "|             Staff|6278246672|\n",
      "|Assistant Engineer| 283373475|\n",
      "|      Senior Staff|1556439241|\n",
      "|   Senior Engineer|4741394167|\n",
      "|          Engineer|2295867023|\n",
      "|           Manager|   1236745|\n",
      "|  Technique Leader| 735933710|\n",
      "+------------------+----------+\n",
      "\n"
     ]
    }
   ],
   "source": [
    "Querry9.show()"
   ]
  },
  {
   "cell_type": "code",
   "execution_count": 31,
   "metadata": {},
   "outputs": [],
   "source": [
    "import pandas as pd\n",
    "import matplotlib.pyplot as plot"
   ]
  },
  {
   "cell_type": "code",
   "execution_count": 32,
   "metadata": {},
   "outputs": [],
   "source": [
    "Querry9p=Querry9.toPandas()"
   ]
  },
  {
   "cell_type": "code",
   "execution_count": 33,
   "metadata": {},
   "outputs": [
    {
     "data": {
      "text/plain": [
       "<matplotlib.axes._subplots.AxesSubplot at 0x7f7af4495690>"
      ]
     },
     "execution_count": 33,
     "metadata": {},
     "output_type": "execute_result"
    },
    {
     "data": {
      "image/png": "[encoded data removed]",
      "text/plain": [
       "<Figure size 432x288 with 1 Axes>"
      ]
     },
     "metadata": {
      "needs_background": "light"
     },
     "output_type": "display_data"
    }
   ],
   "source": [
    "Querry9p.plot(kind = 'bar', x= 'title', y = 'sum_Salary')"
   ]
  },
  {
   "cell_type": "code",
   "execution_count": 34,
   "metadata": {},
   "outputs": [],
   "source": [
    "# Bar graph to show the Average salary per title (designation)\n",
    "Querry10=spark.sql('SELECT title, avg(salary) as AVg_Salary from title t JOIN employee e  on t.title_id = e.emp_title_id JOIN salary s on e.emp_no =  s.emp_no GROUP BY title')"
   ]
  },
  {
   "cell_type": "code",
   "execution_count": 35,
   "metadata": {},
   "outputs": [],
   "source": [
    "Querry10p=Querry10.toPandas()"
   ]
  },
  {
   "cell_type": "code",
   "execution_count": 36,
   "metadata": {},
   "outputs": [
    {
     "data": {
      "text/plain": [
       "<matplotlib.axes._subplots.AxesSubplot at 0x7f7aef557bd0>"
      ]
     },
     "execution_count": 36,
     "metadata": {},
     "output_type": "execute_result"
    },
    {
     "data": {
      "image/png": "[encoded data removed]",
      "text/plain": [
       "<Figure size 432x288 with 1 Axes>"
      ]
     },
     "metadata": {
      "needs_background": "light"
     },
     "output_type": "display_data"
    }
   ],
   "source": [
    "Querry10p.plot(kind = 'bar', x= 'title', y = 'AVg_Salary')"
   ]
  },
  {
   "cell_type": "markdown",
   "metadata": {},
   "source": [
    "Joining the Tables for further visualization and modelling"
   ]
  },
  {
   "cell_type": "code",
   "execution_count": 37,
   "metadata": {},
   "outputs": [],
   "source": [
    "df = employeesj.join(dept_emp_j,on = 'emp_no', how = 'left') \\\n",
    "        .join(departments_j, on='dept_no',how = 'left') \\\n",
    "        .join(salaries_j, on ='emp_no', how = 'left') \\\n",
    "        .join(titles_j, employeesj.emp_title_id == titles_j.title_id, 'left')\n"
   ]
  },
  {
   "cell_type": "code",
   "execution_count": 38,
   "metadata": {},
   "outputs": [],
   "source": [
    "df.createOrReplaceTempView(\"Data\")"
   ]
  },
  {
   "cell_type": "markdown",
   "metadata": {},
   "source": [
    "Additional EDA"
   ]
  },
  {
   "cell_type": "code",
   "execution_count": 39,
   "metadata": {},
   "outputs": [
    {
     "name": "stdout",
     "output_type": "stream",
     "text": [
      "+--------------------+------------------------------+\n",
      "|           dept_name|count(last_performance_rating)|\n",
      "+--------------------+------------------------------+\n",
      "|\"Quality Management\"|                         20117|\n",
      "|        \"Production\"|                         73485|\n",
      "|       \"development\"|                         85707|\n",
      "|          \"Research\"|                         21126|\n",
      "|             \"Sales\"|                         52245|\n",
      "|           \"Finance\"|                         17346|\n",
      "|   \"Human Resources\"|                         17786|\n",
      "|         \"Marketing\"|                         20211|\n",
      "|  \"Customer Service\"|                         23580|\n",
      "+--------------------+------------------------------+\n",
      "\n"
     ]
    }
   ],
   "source": [
    "#dept name and rating count\n",
    "spark.sql('select dept_name, count(last_performance_rating) from Data group by dept_name').show()"
   ]
  },
  {
   "cell_type": "code",
   "execution_count": 40,
   "metadata": {},
   "outputs": [
    {
     "name": "stdout",
     "output_type": "stream",
     "text": [
      "+--------------------+-----------+\n",
      "|           dept_name|sum(salary)|\n",
      "+--------------------+-----------+\n",
      "|\"Quality Management\"|  934555467|\n",
      "|        \"Production\"| 3583161729|\n",
      "|       \"development\"| 4173702462|\n",
      "|          \"Research\"| 1032009108|\n",
      "|             \"Sales\"| 3648379483|\n",
      "|           \"Finance\"| 1032668378|\n",
      "|   \"Human Resources\"|  794654412|\n",
      "|         \"Marketing\"| 1234809182|\n",
      "|  \"Customer Service\"| 1131808649|\n",
      "+--------------------+-----------+\n",
      "\n"
     ]
    }
   ],
   "source": [
    "#total salary of each department\n",
    "spark.sql('select dept_name, sum(salary) from Data group by dept_name').show()"
   ]
  },
  {
   "cell_type": "code",
   "execution_count": 41,
   "metadata": {},
   "outputs": [
    {
     "name": "stdout",
     "output_type": "stream",
     "text": [
      "+-----------+\n",
      "|max(salary)|\n",
      "+-----------+\n",
      "|     129492|\n",
      "+-----------+\n",
      "\n"
     ]
    }
   ],
   "source": [
    "#Max salary earned by a person\n",
    "spark.sql('select max(salary) from Data').show()"
   ]
  },
  {
   "cell_type": "code",
   "execution_count": 42,
   "metadata": {},
   "outputs": [
    {
     "name": "stdout",
     "output_type": "stream",
     "text": [
      "+---+---------------------+\n",
      "|sex|count(no_of_projects)|\n",
      "+---+---------------------+\n",
      "|  F|               132753|\n",
      "|  M|               198850|\n",
      "+---+---------------------+\n",
      "\n"
     ]
    }
   ],
   "source": [
    "# Project distribution amongst sex\n",
    "spark.sql('select sex,count(no_of_projects) from Data group by sex').show()"
   ]
  },
  {
   "cell_type": "code",
   "execution_count": 43,
   "metadata": {},
   "outputs": [
    {
     "name": "stdout",
     "output_type": "stream",
     "text": [
      "+---+-----------+\n",
      "|sex|sum(salary)|\n",
      "+---+-----------+\n",
      "|  F| 7028627662|\n",
      "|  M|10537121208|\n",
      "+---+-----------+\n",
      "\n"
     ]
    }
   ],
   "source": [
    "#Total salary by Gender\n",
    "spark.sql('select sex,sum(salary) from Data group by sex').show()"
   ]
  },
  {
   "cell_type": "code",
   "execution_count": 44,
   "metadata": {},
   "outputs": [
    {
     "name": "stdout",
     "output_type": "stream",
     "text": [
      "+--------------------+----------------+\n",
      "|           dept_name|           title|\n",
      "+--------------------+----------------+\n",
      "|           \"Finance\"|           Staff|\n",
      "|        \"Production\"|        Engineer|\n",
      "|        \"Production\"|        Engineer|\n",
      "|   \"Human Resources\"|           Staff|\n",
      "|\"Quality Management\"| Senior Engineer|\n",
      "|\"Quality Management\"| Senior Engineer|\n",
      "|   \"Human Resources\"|           Staff|\n",
      "|           \"Finance\"|    Senior Staff|\n",
      "|\"Quality Management\"|        Engineer|\n",
      "|  \"Customer Service\"|    Senior Staff|\n",
      "|        \"Production\"|        Engineer|\n",
      "|       \"development\"| Senior Engineer|\n",
      "|          \"Research\"| Senior Engineer|\n",
      "|       \"development\"| Senior Engineer|\n",
      "|             \"Sales\"|           Staff|\n",
      "|       \"development\"|        Engineer|\n",
      "|       \"development\"|Technique Leader|\n",
      "|           \"Finance\"|           Staff|\n",
      "|        \"Production\"|        Engineer|\n",
      "|\"Quality Management\"|Technique Leader|\n",
      "+--------------------+----------------+\n",
      "only showing top 20 rows\n",
      "\n"
     ]
    }
   ],
   "source": [
    "#Department name and titles\n",
    "spark.sql('select dept_name,title from Data').show()"
   ]
  },
  {
   "cell_type": "markdown",
   "metadata": {},
   "source": [
    "Model Building"
   ]
  },
  {
   "cell_type": "code",
   "execution_count": 45,
   "metadata": {},
   "outputs": [
    {
     "data": {
      "text/plain": [
       "pyspark.sql.dataframe.DataFrame"
      ]
     },
     "execution_count": 45,
     "metadata": {},
     "output_type": "execute_result"
    }
   ],
   "source": [
    "type(df)"
   ]
  },
  {
   "cell_type": "code",
   "execution_count": 46,
   "metadata": {},
   "outputs": [
    {
     "data": {
      "text/plain": [
       "['emp_no',\n",
       " 'dept_no',\n",
       " 'emp_title_id',\n",
       " 'birth_date',\n",
       " 'first_name',\n",
       " 'last_name',\n",
       " 'sex',\n",
       " 'hire_date',\n",
       " 'no_of_projects',\n",
       " 'last_performance_rating',\n",
       " 'lefta',\n",
       " 'last_date',\n",
       " 'dept_name',\n",
       " 'salary',\n",
       " 'title_id',\n",
       " 'title']"
      ]
     },
     "execution_count": 46,
     "metadata": {},
     "output_type": "execute_result"
    }
   ],
   "source": [
    "df.columns"
   ]
  },
  {
   "cell_type": "code",
   "execution_count": 47,
   "metadata": {},
   "outputs": [
    {
     "data": {
      "text/plain": [
       "[('emp_no', 'int'),\n",
       " ('dept_no', 'string'),\n",
       " ('emp_title_id', 'string'),\n",
       " ('birth_date', 'string'),\n",
       " ('first_name', 'string'),\n",
       " ('last_name', 'string'),\n",
       " ('sex', 'string'),\n",
       " ('hire_date', 'string'),\n",
       " ('no_of_projects', 'int'),\n",
       " ('last_performance_rating', 'string'),\n",
       " ('lefta', 'int'),\n",
       " ('last_date', 'string'),\n",
       " ('dept_name', 'string'),\n",
       " ('salary', 'bigint'),\n",
       " ('title_id', 'string'),\n",
       " ('title', 'string')]"
      ]
     },
     "execution_count": 47,
     "metadata": {},
     "output_type": "execute_result"
    }
   ],
   "source": [
    "df.dtypes"
   ]
  },
  {
   "cell_type": "markdown",
   "metadata": {},
   "source": [
    "ENCODING"
   ]
  },
  {
   "cell_type": "code",
   "execution_count": 48,
   "metadata": {},
   "outputs": [
    {
     "data": {
      "text/plain": [
       "['emp_no', 'no_of_projects', 'lefta', 'salary']"
      ]
     },
     "execution_count": 48,
     "metadata": {},
     "output_type": "execute_result"
    }
   ],
   "source": [
    "numeric_features = [t[0] for t in df.dtypes if t[1] == 'int' or t[1] == 'bigint' ]\n",
    "numeric_features"
   ]
  },
  {
   "cell_type": "code",
   "execution_count": 49,
   "metadata": {},
   "outputs": [
    {
     "data": {
      "text/plain": [
       "['dept_no',\n",
       " 'emp_title_id',\n",
       " 'birth_date',\n",
       " 'first_name',\n",
       " 'last_name',\n",
       " 'sex',\n",
       " 'hire_date',\n",
       " 'last_performance_rating',\n",
       " 'last_date',\n",
       " 'dept_name',\n",
       " 'title_id',\n",
       " 'title']"
      ]
     },
     "execution_count": 49,
     "metadata": {},
     "output_type": "execute_result"
    }
   ],
   "source": [
    "categorical_features = [t[0] for t in df.dtypes if t[1] == 'string']\n",
    "categorical_features"
   ]
  },
  {
   "cell_type": "code",
   "execution_count": 50,
   "metadata": {},
   "outputs": [],
   "source": [
    "#Any null(missings) values\n",
    "from pyspark.sql.functions import isnull\n",
    "df_clean = df.na.drop( how = 'any' )"
   ]
  },
  {
   "cell_type": "code",
   "execution_count": 51,
   "metadata": {},
   "outputs": [
    {
     "data": {
      "text/plain": [
       "True"
      ]
     },
     "execution_count": 51,
     "metadata": {},
     "output_type": "execute_result"
    }
   ],
   "source": [
    "df_clean.count() == df.count()"
   ]
  },
  {
   "cell_type": "code",
   "execution_count": 52,
   "metadata": {},
   "outputs": [
    {
     "data": {
      "text/plain": [
       "331603"
      ]
     },
     "execution_count": 52,
     "metadata": {},
     "output_type": "execute_result"
    }
   ],
   "source": [
    "df.count()"
   ]
  },
  {
   "cell_type": "code",
   "execution_count": 53,
   "metadata": {},
   "outputs": [
    {
     "data": {
      "text/plain": [
       "[('emp_no', 'int'),\n",
       " ('dept_no', 'string'),\n",
       " ('emp_title_id', 'string'),\n",
       " ('birth_date', 'string'),\n",
       " ('first_name', 'string'),\n",
       " ('last_name', 'string'),\n",
       " ('sex', 'string'),\n",
       " ('hire_date', 'string'),\n",
       " ('no_of_projects', 'int'),\n",
       " ('last_performance_rating', 'string'),\n",
       " ('lefta', 'int'),\n",
       " ('last_date', 'string'),\n",
       " ('dept_name', 'string'),\n",
       " ('salary', 'bigint'),\n",
       " ('title_id', 'string'),\n",
       " ('title', 'string')]"
      ]
     },
     "execution_count": 53,
     "metadata": {},
     "output_type": "execute_result"
    }
   ],
   "source": [
    "df_clean.dtypes"
   ]
  },
  {
   "cell_type": "code",
   "execution_count": 54,
   "metadata": {},
   "outputs": [],
   "source": [
    "#Encoding all categorical features\n",
    "from pyspark.ml.feature import OneHotEncoder, StringIndexer, VectorAssembler, PolynomialExpansion, VectorIndexer"
   ]
  },
  {
   "cell_type": "code",
   "execution_count": 55,
   "metadata": {},
   "outputs": [],
   "source": [
    "SI_deptno = StringIndexer(inputCol='dept_no',outputCol='DNO')\n",
    "SI_emp_title_id = StringIndexer(inputCol='emp_title_id',outputCol='EID')\n",
    "SI_sex = StringIndexer(inputCol='sex',outputCol='SEXX')\n",
    "SI_last_p = StringIndexer(inputCol='last_performance_rating',outputCol='LPR')\n",
    "SI_deptname = StringIndexer(inputCol='dept_name',outputCol='Dname')\n",
    "SI_titleid = StringIndexer(inputCol='title_id',outputCol='TID')\n",
    "SI_title = StringIndexer(inputCol='title',outputCol='titles')"
   ]
  },
  {
   "cell_type": "code",
   "execution_count": 56,
   "metadata": {},
   "outputs": [],
   "source": [
    "df_clean = SI_deptno.fit(df_clean).transform(df_clean)\n",
    "df_clean = SI_emp_title_id.fit(df_clean).transform(df_clean)\n",
    "df_clean = SI_sex.fit(df_clean).transform(df_clean)\n",
    "df_clean = SI_last_p.fit(df_clean).transform(df_clean)\n",
    "df_clean = SI_deptname.fit(df_clean).transform(df_clean)\n",
    "df_clean = SI_titleid.fit(df_clean).transform(df_clean)\n",
    "df_clean = SI_title.fit(df_clean).transform(df_clean)\n",
    "\n",
    "\n",
    "\n",
    "\n"
   ]
  },
  {
   "cell_type": "code",
   "execution_count": 57,
   "metadata": {},
   "outputs": [
    {
     "name": "stdout",
     "output_type": "stream",
     "text": [
      "+---+----+---+---+-----+---+------+\n",
      "|EID|SEXX|DNO|LPR|Dname|TID|titles|\n",
      "+---+----+---+---+-----+---+------+\n",
      "|0.0| 0.0|8.0|1.0|  8.0|0.0|   0.0|\n",
      "|2.0| 1.0|1.0|2.0|  1.0|2.0|   2.0|\n",
      "|2.0| 1.0|1.0|1.0|  1.0|2.0|   2.0|\n",
      "|0.0| 0.0|7.0|2.0|  7.0|0.0|   0.0|\n",
      "|1.0| 1.0|6.0|0.0|  6.0|1.0|   1.0|\n",
      "|1.0| 0.0|6.0|0.0|  6.0|1.0|   1.0|\n",
      "|0.0| 0.0|7.0|1.0|  7.0|0.0|   0.0|\n",
      "|3.0| 0.0|8.0|1.0|  8.0|3.0|   3.0|\n",
      "|2.0| 0.0|6.0|1.0|  6.0|2.0|   2.0|\n",
      "|3.0| 1.0|3.0|0.0|  3.0|3.0|   3.0|\n",
      "|2.0| 1.0|1.0|3.0|  1.0|2.0|   2.0|\n",
      "|1.0| 0.0|0.0|2.0|  0.0|1.0|   1.0|\n",
      "|1.0| 1.0|4.0|2.0|  4.0|1.0|   1.0|\n",
      "|1.0| 1.0|0.0|2.0|  0.0|1.0|   1.0|\n",
      "|0.0| 1.0|2.0|2.0|  2.0|0.0|   0.0|\n",
      "|2.0| 0.0|0.0|2.0|  0.0|2.0|   2.0|\n",
      "|4.0| 0.0|0.0|2.0|  0.0|4.0|   4.0|\n",
      "|0.0| 0.0|8.0|0.0|  8.0|0.0|   0.0|\n",
      "|2.0| 0.0|1.0|1.0|  1.0|2.0|   2.0|\n",
      "|4.0| 0.0|6.0|2.0|  6.0|4.0|   4.0|\n",
      "+---+----+---+---+-----+---+------+\n",
      "only showing top 20 rows\n",
      "\n"
     ]
    }
   ],
   "source": [
    "df_clean.select('EID','SEXX','DNO','LPR','Dname','TID','titles').show()"
   ]
  },
  {
   "cell_type": "code",
   "execution_count": 58,
   "metadata": {},
   "outputs": [],
   "source": [
    "encoder=OneHotEncoder(inputCol=\"EID\",outputCol=\"EID_V\")\n",
    "df_clean = encoder.transform(df_clean)"
   ]
  },
  {
   "cell_type": "code",
   "execution_count": 59,
   "metadata": {},
   "outputs": [],
   "source": [
    "encoder=OneHotEncoder(inputCol=\"SEXX\",outputCol=\"SEXX_V\")\n",
    "df_clean = encoder.transform(df_clean)"
   ]
  },
  {
   "cell_type": "code",
   "execution_count": 60,
   "metadata": {},
   "outputs": [],
   "source": [
    "encoder=OneHotEncoder(inputCol=\"DNO\",outputCol=\"DNO_V\")\n",
    "df_clean = encoder.transform(df_clean)"
   ]
  },
  {
   "cell_type": "code",
   "execution_count": 61,
   "metadata": {},
   "outputs": [],
   "source": [
    "encoder=OneHotEncoder(inputCol=\"LPR\",outputCol=\"LPR_V\")\n",
    "df_clean = encoder.transform(df_clean)"
   ]
  },
  {
   "cell_type": "code",
   "execution_count": 62,
   "metadata": {},
   "outputs": [],
   "source": [
    "encoder=OneHotEncoder(inputCol=\"Dname\",outputCol=\"Dname_V\")\n",
    "df_clean = encoder.transform(df_clean)"
   ]
  },
  {
   "cell_type": "code",
   "execution_count": 63,
   "metadata": {},
   "outputs": [],
   "source": [
    "encoder=OneHotEncoder(inputCol=\"titles\",outputCol=\"titles_V\")\n",
    "df_clean = encoder.transform(df_clean)"
   ]
  },
  {
   "cell_type": "code",
   "execution_count": 64,
   "metadata": {},
   "outputs": [],
   "source": [
    "featureCols =  ['emp_no','no_of_projects','EID_V',\n",
    "                                   'SEXX_V',\n",
    "                                   'DNO_V',\n",
    "                                   'LPR_V',\n",
    "                                   'Dname_V',\n",
    "                                  'titles_V']"
   ]
  },
  {
   "cell_type": "code",
   "execution_count": 65,
   "metadata": {},
   "outputs": [
    {
     "data": {
      "text/plain": [
       "['emp_no',\n",
       " 'no_of_projects',\n",
       " 'EID_V',\n",
       " 'SEXX_V',\n",
       " 'DNO_V',\n",
       " 'LPR_V',\n",
       " 'Dname_V',\n",
       " 'titles_V']"
      ]
     },
     "execution_count": 65,
     "metadata": {},
     "output_type": "execute_result"
    }
   ],
   "source": [
    "featureCols\n"
   ]
  },
  {
   "cell_type": "code",
   "execution_count": 66,
   "metadata": {},
   "outputs": [],
   "source": [
    "assembler = VectorAssembler( inputCols = featureCols, outputCol = \"features\")"
   ]
  },
  {
   "cell_type": "code",
   "execution_count": 67,
   "metadata": {},
   "outputs": [],
   "source": [
    "df_clean1 = assembler.transform(df_clean)"
   ]
  },
  {
   "cell_type": "code",
   "execution_count": 68,
   "metadata": {},
   "outputs": [
    {
     "name": "stdout",
     "output_type": "stream",
     "text": [
      "+------+-------+------------+----------+----------+---------+---+----------+--------------+-----------------------+-----+----------+--------------------+------+--------+---------------+---+---+----+---+-----+---+------+-------------+-------------+-------------+-------------+-------------+-------------+------------------------------------------------------------------+\n",
      "|emp_no|dept_no|emp_title_id|birth_date|first_name|last_name|sex|hire_date |no_of_projects|last_performance_rating|lefta|last_date |dept_name           |salary|title_id|title          |DNO|EID|SEXX|LPR|Dname|TID|titles|EID_V        |SEXX_V       |DNO_V        |LPR_V        |Dname_V      |titles_V     |features                                                          |\n",
      "+------+-------+------------+----------+----------+---------+---+----------+--------------+-----------------------+-----+----------+--------------------+------+--------+---------------+---+---+----+---+-----+---+------+-------------+-------------+-------------+-------------+-------------+-------------+------------------------------------------------------------------+\n",
      "         |\"Finance\"           |40000 |s0001   |Staff          |8.0|0.0|0.0 |1.0|8.0  |0.0|0.0   |(6,[0],[1.0])|(1,[0],[1.0])|(8,[],[])    |(4,[1],[1.0])|(8,[],[])    |(6,[0],[1.0])|(35,[0,1,2,8,18,29],[473302.0,2.0,1.0,1.0,1.0,1.0])               |\n",
      "         |\"Production\"        |53422 |e0002   |Engineer       |1.0|2.0|1.0 |2.0|1.0  |2.0|2.0   |(6,[2],[1.0])|(1,[],[])    |(8,[1],[1.0])|(4,[2],[1.0])|(8,[1],[1.0])|(6,[2],[1.0])|(35,[0,1,4,10,19,22,31],[475053.0,1.0,1.0,1.0,1.0,1.0,1.0])       |\n",
      "         |\"Production\"        |48973 |e0002   |Engineer       |1.0|2.0|1.0 |1.0|1.0  |2.0|2.0   |(6,[2],[1.0])|(1,[],[])    |(8,[1],[1.0])|(4,[1],[1.0])|(8,[1],[1.0])|(6,[2],[1.0])|(35,[0,1,4,10,18,22,31],[57444.0,9.0,1.0,1.0,1.0,1.0,1.0])        |\n",
      "         |\"Human Resources\"   |40000 |s0001   |Staff          |7.0|0.0|0.0 |2.0|7.0  |0.0|0.0   |(6,[0],[1.0])|(1,[0],[1.0])|(8,[7],[1.0])|(4,[2],[1.0])|(8,[7],[1.0])|(6,[0],[1.0])|(35,[0,1,2,8,16,19,28,29],[421786.0,2.0,1.0,1.0,1.0,1.0,1.0,1.0]) |\n",
      "         |\"Quality Management\"|40000 |e0003   |Senior Engineer|6.0|1.0|1.0 |0.0|6.0  |1.0|1.0   |(6,[1],[1.0])|(1,[],[])    |(8,[6],[1.0])|(4,[0],[1.0])|(8,[6],[1.0])|(6,[1],[1.0])|(35,[0,1,3,15,17,27,30],[282238.0,6.0,1.0,1.0,1.0,1.0,1.0])       |\n",
      "|\"Quality Management\"|40000 |e0003   |Senior Engineer|6.0|1.0|0.0 |0.0|6.0  |1.0|1.0   |(6,[1],[1.0])|(1,[0],[1.0])|(8,[6],[1.0])|(4,[0],[1.0])|(8,[6],[1.0])|(6,[1],[1.0])|(35,[0,1,3,8,15,17,27,30],[263976.0,8.0,1.0,1.0,1.0,1.0,1.0,1.0]) |\n",
      "         |\"Human Resources\"   |56087 |s0001   |Staff          |7.0|0.0|0.0 |1.0|7.0  |0.0|0.0   |(6,[0],[1.0])|(1,[0],[1.0])|(8,[7],[1.0])|(4,[1],[1.0])|(8,[7],[1.0])|(6,[0],[1.0])|(35,[0,1,2,8,16,18,28,29],[273487.0,10.0,1.0,1.0,1.0,1.0,1.0,1.0])|\n",
      "|\"Finance\"           |40000 |s0002   |Senior Staff   |8.0|3.0|0.0 |1.0|8.0  |3.0|3.0   |(6,[3],[1.0])|(1,[0],[1.0])|(8,[],[])    |(4,[1],[1.0])|(8,[],[])    |(6,[3],[1.0])|(35,[0,1,5,8,18,32],[461591.0,2.0,1.0,1.0,1.0,1.0])               |\n",
      "         |\"Quality Management\"|54816 |e0002   |Engineer       |6.0|2.0|0.0 |1.0|6.0  |2.0|2.0   |(6,[2],[1.0])|(1,[0],[1.0])|(8,[6],[1.0])|(4,[1],[1.0])|(8,[6],[1.0])|(6,[2],[1.0])|(35,[0,1,4,8,15,18,27,31],[477657.0,5.0,1.0,1.0,1.0,1.0,1.0,1.0]) |\n",
      "         |\"Customer Service\"  |40000 |s0002   |Senior Staff   |3.0|3.0|1.0 |0.0|3.0  |3.0|3.0   |(6,[3],[1.0])|(1,[],[])    |(8,[3],[1.0])|(4,[0],[1.0])|(8,[3],[1.0])|(6,[3],[1.0])|(35,[0,1,5,12,17,24,32],[219881.0,6.0,1.0,1.0,1.0,1.0,1.0])       |\n",
      "+------+-------+------------+----------+----------+---------+---+----------+--------------+-----------------------+-----+----------+--------------------+------+--------+---------------+---+---+----+---+-----+---+------+-------------+-------------+-------------+-------------+-------------+-------------+------------------------------------------------------------------+\n",
      "only showing top 10 rows\n",
      "\n"
     ]
    }
   ],
   "source": [
    "df_clean1.show( 10 , truncate=False)"
   ]
  },
  {
   "cell_type": "code",
   "execution_count": 69,
   "metadata": {},
   "outputs": [],
   "source": [
    "#setting target variable\n",
    "df_clean1 = df_clean1.withColumn( \"label\", df_clean1.lefta.cast( 'int' ) )"
   ]
  },
  {
   "cell_type": "code",
   "execution_count": 70,
   "metadata": {},
   "outputs": [
    {
     "name": "stdout",
     "output_type": "stream",
     "text": [
      "+--------------------+-----+\n",
      "|            features|label|\n",
      "+--------------------+-----+\n",
      "|(35,[0,1,2,8,18,2...|    0|\n",
      "|(35,[0,1,4,10,19,...|    0|\n",
      "|(35,[0,1,4,10,18,...|    0|\n",
      "|(35,[0,1,2,8,16,1...|    0|\n",
      "|(35,[0,1,3,15,17,...|    0|\n",
      "|(35,[0,1,3,8,15,1...|    1|\n",
      "|(35,[0,1,2,8,16,1...|    0|\n",
      "|(35,[0,1,5,8,18,3...|    1|\n",
      "|(35,[0,1,4,8,15,1...|    0|\n",
      "|(35,[0,1,5,12,17,...|    0|\n",
      "|(35,[0,1,4,10,20,...|    0|\n",
      "|(35,[0,1,3,8,9,19...|    1|\n",
      "|(35,[0,1,3,13,19,...|    0|\n",
      "|(35,[0,1,3,9,19,2...|    0|\n",
      "|(35,[0,1,2,11,19,...|    0|\n",
      "|(35,[0,1,4,8,9,19...|    0|\n",
      "|(35,[0,1,6,8,9,19...|    0|\n",
      "|(35,[0,1,2,8,17,2...|    0|\n",
      "|(35,[0,1,4,8,10,1...|    0|\n",
      "|(35,[0,1,6,8,15,1...|    0|\n",
      "+--------------------+-----+\n",
      "only showing top 20 rows\n",
      "\n"
     ]
    }
   ],
   "source": [
    "df_clean1.select( \"features\", \"label\" ).show()"
   ]
  },
  {
   "cell_type": "code",
   "execution_count": 71,
   "metadata": {},
   "outputs": [
    {
     "data": {
      "text/html": [
       "<div>\n",
       "<style scoped>\n",
       "    .dataframe tbody tr th:only-of-type {\n",
       "        vertical-align: middle;\n",
       "    }\n",
       "\n",
       "    .dataframe tbody tr th {\n",
       "        vertical-align: top;\n",
       "    }\n",
       "\n",
       "    .dataframe thead th {\n",
       "        text-align: right;\n",
       "    }\n",
       "</style>\n",
       "<table border=\"1\" class=\"dataframe\">\n",
       "  <thead>\n",
       "    <tr style=\"text-align: right;\">\n",
       "      <th></th>\n",
       "      <th>0</th>\n",
       "      <th>1</th>\n",
       "      <th>2</th>\n",
       "      <th>3</th>\n",
       "      <th>4</th>\n",
       "    </tr>\n",
       "  </thead>\n",
       "  <tbody>\n",
       "    <tr>\n",
       "      <th>emp_no</th>\n",
       "      <td>473302</td>\n",
       "      <td>475053</td>\n",
       "      <td>57444</td>\n",
       "      <td>421786</td>\n",
       "      <td>282238</td>\n",
       "    </tr>\n",
       "    <tr>\n",
       "      <th>dept_no</th>\n",
       "      <td>d002</td>\n",
       "      <td>d004</td>\n",
       "      <td>d004</td>\n",
       "      <td>d003</td>\n",
       "      <td>d006</td>\n",
       "    </tr>\n",
       "    <tr>\n",
       "      <th>emp_title_id</th>\n",
       "      <td>s0001</td>\n",
       "      <td>e0002</td>\n",
       "      <td>e0002</td>\n",
       "      <td>s0001</td>\n",
       "      <td>e0003</td>\n",
       "    </tr>\n",
       "    <tr>\n",
       "      <th>birth_date</th>\n",
       "      <td>7/25/1953</td>\n",
       "      <td>11/18/1954</td>\n",
       "      <td>1/30/1958</td>\n",
       "      <td>9/28/1957</td>\n",
       "      <td>10/28/1952</td>\n",
       "    </tr>\n",
       "    <tr>\n",
       "      <th>first_name</th>\n",
       "      <td>Hideyuki</td>\n",
       "      <td>Byong</td>\n",
       "      <td>Berry</td>\n",
       "      <td>Xiong</td>\n",
       "      <td>Abdelkader</td>\n",
       "    </tr>\n",
       "    <tr>\n",
       "      <th>last_name</th>\n",
       "      <td>Zallocco</td>\n",
       "      <td>Delgrande</td>\n",
       "      <td>Babb</td>\n",
       "      <td>Verhoeff</td>\n",
       "      <td>Baumann</td>\n",
       "    </tr>\n",
       "    <tr>\n",
       "      <th>sex</th>\n",
       "      <td>M</td>\n",
       "      <td>F</td>\n",
       "      <td>F</td>\n",
       "      <td>M</td>\n",
       "      <td>F</td>\n",
       "    </tr>\n",
       "    <tr>\n",
       "      <th>hire_date</th>\n",
       "      <td>4/28/1990</td>\n",
       "      <td>9/7/1991</td>\n",
       "      <td>3/21/1992</td>\n",
       "      <td>11/26/1987</td>\n",
       "      <td>1/18/1991</td>\n",
       "    </tr>\n",
       "    <tr>\n",
       "      <th>no_of_projects</th>\n",
       "      <td>2</td>\n",
       "      <td>1</td>\n",
       "      <td>9</td>\n",
       "      <td>2</td>\n",
       "      <td>6</td>\n",
       "    </tr>\n",
       "    <tr>\n",
       "      <th>last_performance_rating</th>\n",
       "      <td>A</td>\n",
       "      <td>C</td>\n",
       "      <td>A</td>\n",
       "      <td>C</td>\n",
       "      <td>B</td>\n",
       "    </tr>\n",
       "    <tr>\n",
       "      <th>lefta</th>\n",
       "      <td>0</td>\n",
       "      <td>0</td>\n",
       "      <td>0</td>\n",
       "      <td>0</td>\n",
       "      <td>0</td>\n",
       "    </tr>\n",
       "    <tr>\n",
       "      <th>last_date</th>\n",
       "      <td>\\r</td>\n",
       "      <td>\\r</td>\n",
       "      <td>\\r</td>\n",
       "      <td>\\r</td>\n",
       "      <td>\\r</td>\n",
       "    </tr>\n",
       "    <tr>\n",
       "      <th>dept_name</th>\n",
       "      <td>\"Finance\"</td>\n",
       "      <td>\"Production\"</td>\n",
       "      <td>\"Production\"</td>\n",
       "      <td>\"Human Resources\"</td>\n",
       "      <td>\"Quality Management\"</td>\n",
       "    </tr>\n",
       "    <tr>\n",
       "      <th>salary</th>\n",
       "      <td>40000</td>\n",
       "      <td>53422</td>\n",
       "      <td>48973</td>\n",
       "      <td>40000</td>\n",
       "      <td>40000</td>\n",
       "    </tr>\n",
       "    <tr>\n",
       "      <th>title_id</th>\n",
       "      <td>s0001</td>\n",
       "      <td>e0002</td>\n",
       "      <td>e0002</td>\n",
       "      <td>s0001</td>\n",
       "      <td>e0003</td>\n",
       "    </tr>\n",
       "    <tr>\n",
       "      <th>title</th>\n",
       "      <td>Staff</td>\n",
       "      <td>Engineer</td>\n",
       "      <td>Engineer</td>\n",
       "      <td>Staff</td>\n",
       "      <td>Senior Engineer</td>\n",
       "    </tr>\n",
       "    <tr>\n",
       "      <th>DNO</th>\n",
       "      <td>8</td>\n",
       "      <td>1</td>\n",
       "      <td>1</td>\n",
       "      <td>7</td>\n",
       "      <td>6</td>\n",
       "    </tr>\n",
       "    <tr>\n",
       "      <th>EID</th>\n",
       "      <td>0</td>\n",
       "      <td>2</td>\n",
       "      <td>2</td>\n",
       "      <td>0</td>\n",
       "      <td>1</td>\n",
       "    </tr>\n",
       "    <tr>\n",
       "      <th>SEXX</th>\n",
       "      <td>0</td>\n",
       "      <td>1</td>\n",
       "      <td>1</td>\n",
       "      <td>0</td>\n",
       "      <td>1</td>\n",
       "    </tr>\n",
       "    <tr>\n",
       "      <th>LPR</th>\n",
       "      <td>1</td>\n",
       "      <td>2</td>\n",
       "      <td>1</td>\n",
       "      <td>2</td>\n",
       "      <td>0</td>\n",
       "    </tr>\n",
       "    <tr>\n",
       "      <th>Dname</th>\n",
       "      <td>8</td>\n",
       "      <td>1</td>\n",
       "      <td>1</td>\n",
       "      <td>7</td>\n",
       "      <td>6</td>\n",
       "    </tr>\n",
       "    <tr>\n",
       "      <th>TID</th>\n",
       "      <td>0</td>\n",
       "      <td>2</td>\n",
       "      <td>2</td>\n",
       "      <td>0</td>\n",
       "      <td>1</td>\n",
       "    </tr>\n",
       "    <tr>\n",
       "      <th>titles</th>\n",
       "      <td>0</td>\n",
       "      <td>2</td>\n",
       "      <td>2</td>\n",
       "      <td>0</td>\n",
       "      <td>1</td>\n",
       "    </tr>\n",
       "    <tr>\n",
       "      <th>EID_V</th>\n",
       "      <td>(1.0, 0.0, 0.0, 0.0, 0.0, 0.0)</td>\n",
       "      <td>(0.0, 0.0, 1.0, 0.0, 0.0, 0.0)</td>\n",
       "      <td>(0.0, 0.0, 1.0, 0.0, 0.0, 0.0)</td>\n",
       "      <td>(1.0, 0.0, 0.0, 0.0, 0.0, 0.0)</td>\n",
       "      <td>(0.0, 1.0, 0.0, 0.0, 0.0, 0.0)</td>\n",
       "    </tr>\n",
       "    <tr>\n",
       "      <th>SEXX_V</th>\n",
       "      <td>(1.0)</td>\n",
       "      <td>(0.0)</td>\n",
       "      <td>(0.0)</td>\n",
       "      <td>(1.0)</td>\n",
       "      <td>(0.0)</td>\n",
       "    </tr>\n",
       "    <tr>\n",
       "      <th>DNO_V</th>\n",
       "      <td>(0.0, 0.0, 0.0, 0.0, 0.0, 0.0, 0.0, 0.0)</td>\n",
       "      <td>(0.0, 1.0, 0.0, 0.0, 0.0, 0.0, 0.0, 0.0)</td>\n",
       "      <td>(0.0, 1.0, 0.0, 0.0, 0.0, 0.0, 0.0, 0.0)</td>\n",
       "      <td>(0.0, 0.0, 0.0, 0.0, 0.0, 0.0, 0.0, 1.0)</td>\n",
       "      <td>(0.0, 0.0, 0.0, 0.0, 0.0, 0.0, 1.0, 0.0)</td>\n",
       "    </tr>\n",
       "    <tr>\n",
       "      <th>LPR_V</th>\n",
       "      <td>(0.0, 1.0, 0.0, 0.0)</td>\n",
       "      <td>(0.0, 0.0, 1.0, 0.0)</td>\n",
       "      <td>(0.0, 1.0, 0.0, 0.0)</td>\n",
       "      <td>(0.0, 0.0, 1.0, 0.0)</td>\n",
       "      <td>(1.0, 0.0, 0.0, 0.0)</td>\n",
       "    </tr>\n",
       "    <tr>\n",
       "      <th>Dname_V</th>\n",
       "      <td>(0.0, 0.0, 0.0, 0.0, 0.0, 0.0, 0.0, 0.0)</td>\n",
       "      <td>(0.0, 1.0, 0.0, 0.0, 0.0, 0.0, 0.0, 0.0)</td>\n",
       "      <td>(0.0, 1.0, 0.0, 0.0, 0.0, 0.0, 0.0, 0.0)</td>\n",
       "      <td>(0.0, 0.0, 0.0, 0.0, 0.0, 0.0, 0.0, 1.0)</td>\n",
       "      <td>(0.0, 0.0, 0.0, 0.0, 0.0, 0.0, 1.0, 0.0)</td>\n",
       "    </tr>\n",
       "    <tr>\n",
       "      <th>titles_V</th>\n",
       "      <td>(1.0, 0.0, 0.0, 0.0, 0.0, 0.0)</td>\n",
       "      <td>(0.0, 0.0, 1.0, 0.0, 0.0, 0.0)</td>\n",
       "      <td>(0.0, 0.0, 1.0, 0.0, 0.0, 0.0)</td>\n",
       "      <td>(1.0, 0.0, 0.0, 0.0, 0.0, 0.0)</td>\n",
       "      <td>(0.0, 1.0, 0.0, 0.0, 0.0, 0.0)</td>\n",
       "    </tr>\n",
       "    <tr>\n",
       "      <th>features</th>\n",
       "      <td>(473302.0, 2.0, 1.0, 0.0, 0.0, 0.0, 0.0, 0.0, ...</td>\n",
       "      <td>(475053.0, 1.0, 0.0, 0.0, 1.0, 0.0, 0.0, 0.0, ...</td>\n",
       "      <td>(57444.0, 9.0, 0.0, 0.0, 1.0, 0.0, 0.0, 0.0, 0...</td>\n",
       "      <td>(421786.0, 2.0, 1.0, 0.0, 0.0, 0.0, 0.0, 0.0, ...</td>\n",
       "      <td>(282238.0, 6.0, 0.0, 1.0, 0.0, 0.0, 0.0, 0.0, ...</td>\n",
       "    </tr>\n",
       "    <tr>\n",
       "      <th>label</th>\n",
       "      <td>0</td>\n",
       "      <td>0</td>\n",
       "      <td>0</td>\n",
       "      <td>0</td>\n",
       "      <td>0</td>\n",
       "    </tr>\n",
       "  </tbody>\n",
       "</table>\n",
       "</div>"
      ],
      "text/plain": [
       "                                                                         0  \\\n",
       "emp_no                                                              473302   \n",
       "dept_no                                                               d002   \n",
       "emp_title_id                                                         s0001   \n",
       "birth_date                                                       7/25/1953   \n",
       "first_name                                                        Hideyuki   \n",
       "last_name                                                         Zallocco   \n",
       "sex                                                                      M   \n",
       "hire_date                                                        4/28/1990   \n",
       "no_of_projects                                                           2   \n",
       "last_performance_rating                                                  A   \n",
       "lefta                                                                    0   \n",
       "last_date                                                               \\r   \n",
       "dept_name                                                        \"Finance\"   \n",
       "salary                                                               40000   \n",
       "title_id                                                             s0001   \n",
       "title                                                                Staff   \n",
       "DNO                                                                      8   \n",
       "EID                                                                      0   \n",
       "SEXX                                                                     0   \n",
       "LPR                                                                      1   \n",
       "Dname                                                                    8   \n",
       "TID                                                                      0   \n",
       "titles                                                                   0   \n",
       "EID_V                                       (1.0, 0.0, 0.0, 0.0, 0.0, 0.0)   \n",
       "SEXX_V                                                               (1.0)   \n",
       "DNO_V                             (0.0, 0.0, 0.0, 0.0, 0.0, 0.0, 0.0, 0.0)   \n",
       "LPR_V                                                 (0.0, 1.0, 0.0, 0.0)   \n",
       "Dname_V                           (0.0, 0.0, 0.0, 0.0, 0.0, 0.0, 0.0, 0.0)   \n",
       "titles_V                                    (1.0, 0.0, 0.0, 0.0, 0.0, 0.0)   \n",
       "features                 (473302.0, 2.0, 1.0, 0.0, 0.0, 0.0, 0.0, 0.0, ...   \n",
       "label                                                                    0   \n",
       "\n",
       "                                                                         1  \\\n",
       "emp_no                                                              475053   \n",
       "dept_no                                                               d004   \n",
       "emp_title_id                                                         e0002   \n",
       "birth_date                                                      11/18/1954   \n",
       "first_name                                                           Byong   \n",
       "last_name                                                        Delgrande   \n",
       "sex                                                                      F   \n",
       "hire_date                                                         9/7/1991   \n",
       "no_of_projects                                                           1   \n",
       "last_performance_rating                                                  C   \n",
       "lefta                                                                    0   \n",
       "last_date                                                               \\r   \n",
       "dept_name                                                     \"Production\"   \n",
       "salary                                                               53422   \n",
       "title_id                                                             e0002   \n",
       "title                                                             Engineer   \n",
       "DNO                                                                      1   \n",
       "EID                                                                      2   \n",
       "SEXX                                                                     1   \n",
       "LPR                                                                      2   \n",
       "Dname                                                                    1   \n",
       "TID                                                                      2   \n",
       "titles                                                                   2   \n",
       "EID_V                                       (0.0, 0.0, 1.0, 0.0, 0.0, 0.0)   \n",
       "SEXX_V                                                               (0.0)   \n",
       "DNO_V                             (0.0, 1.0, 0.0, 0.0, 0.0, 0.0, 0.0, 0.0)   \n",
       "LPR_V                                                 (0.0, 0.0, 1.0, 0.0)   \n",
       "Dname_V                           (0.0, 1.0, 0.0, 0.0, 0.0, 0.0, 0.0, 0.0)   \n",
       "titles_V                                    (0.0, 0.0, 1.0, 0.0, 0.0, 0.0)   \n",
       "features                 (475053.0, 1.0, 0.0, 0.0, 1.0, 0.0, 0.0, 0.0, ...   \n",
       "label                                                                    0   \n",
       "\n",
       "                                                                         2  \\\n",
       "emp_no                                                               57444   \n",
       "dept_no                                                               d004   \n",
       "emp_title_id                                                         e0002   \n",
       "birth_date                                                       1/30/1958   \n",
       "first_name                                                           Berry   \n",
       "last_name                                                             Babb   \n",
       "sex                                                                      F   \n",
       "hire_date                                                        3/21/1992   \n",
       "no_of_projects                                                           9   \n",
       "last_performance_rating                                                  A   \n",
       "lefta                                                                    0   \n",
       "last_date                                                               \\r   \n",
       "dept_name                                                     \"Production\"   \n",
       "salary                                                               48973   \n",
       "title_id                                                             e0002   \n",
       "title                                                             Engineer   \n",
       "DNO                                                                      1   \n",
       "EID                                                                      2   \n",
       "SEXX                                                                     1   \n",
       "LPR                                                                      1   \n",
       "Dname                                                                    1   \n",
       "TID                                                                      2   \n",
       "titles                                                                   2   \n",
       "EID_V                                       (0.0, 0.0, 1.0, 0.0, 0.0, 0.0)   \n",
       "SEXX_V                                                               (0.0)   \n",
       "DNO_V                             (0.0, 1.0, 0.0, 0.0, 0.0, 0.0, 0.0, 0.0)   \n",
       "LPR_V                                                 (0.0, 1.0, 0.0, 0.0)   \n",
       "Dname_V                           (0.0, 1.0, 0.0, 0.0, 0.0, 0.0, 0.0, 0.0)   \n",
       "titles_V                                    (0.0, 0.0, 1.0, 0.0, 0.0, 0.0)   \n",
       "features                 (57444.0, 9.0, 0.0, 0.0, 1.0, 0.0, 0.0, 0.0, 0...   \n",
       "label                                                                    0   \n",
       "\n",
       "                                                                         3  \\\n",
       "emp_no                                                              421786   \n",
       "dept_no                                                               d003   \n",
       "emp_title_id                                                         s0001   \n",
       "birth_date                                                       9/28/1957   \n",
       "first_name                                                           Xiong   \n",
       "last_name                                                         Verhoeff   \n",
       "sex                                                                      M   \n",
       "hire_date                                                       11/26/1987   \n",
       "no_of_projects                                                           2   \n",
       "last_performance_rating                                                  C   \n",
       "lefta                                                                    0   \n",
       "last_date                                                               \\r   \n",
       "dept_name                                                \"Human Resources\"   \n",
       "salary                                                               40000   \n",
       "title_id                                                             s0001   \n",
       "title                                                                Staff   \n",
       "DNO                                                                      7   \n",
       "EID                                                                      0   \n",
       "SEXX                                                                     0   \n",
       "LPR                                                                      2   \n",
       "Dname                                                                    7   \n",
       "TID                                                                      0   \n",
       "titles                                                                   0   \n",
       "EID_V                                       (1.0, 0.0, 0.0, 0.0, 0.0, 0.0)   \n",
       "SEXX_V                                                               (1.0)   \n",
       "DNO_V                             (0.0, 0.0, 0.0, 0.0, 0.0, 0.0, 0.0, 1.0)   \n",
       "LPR_V                                                 (0.0, 0.0, 1.0, 0.0)   \n",
       "Dname_V                           (0.0, 0.0, 0.0, 0.0, 0.0, 0.0, 0.0, 1.0)   \n",
       "titles_V                                    (1.0, 0.0, 0.0, 0.0, 0.0, 0.0)   \n",
       "features                 (421786.0, 2.0, 1.0, 0.0, 0.0, 0.0, 0.0, 0.0, ...   \n",
       "label                                                                    0   \n",
       "\n",
       "                                                                         4  \n",
       "emp_no                                                              282238  \n",
       "dept_no                                                               d006  \n",
       "emp_title_id                                                         e0003  \n",
       "birth_date                                                      10/28/1952  \n",
       "first_name                                                      Abdelkader  \n",
       "last_name                                                          Baumann  \n",
       "sex                                                                      F  \n",
       "hire_date                                                        1/18/1991  \n",
       "no_of_projects                                                           6  \n",
       "last_performance_rating                                                  B  \n",
       "lefta                                                                    0  \n",
       "last_date                                                               \\r  \n",
       "dept_name                                             \"Quality Management\"  \n",
       "salary                                                               40000  \n",
       "title_id                                                             e0003  \n",
       "title                                                      Senior Engineer  \n",
       "DNO                                                                      6  \n",
       "EID                                                                      1  \n",
       "SEXX                                                                     1  \n",
       "LPR                                                                      0  \n",
       "Dname                                                                    6  \n",
       "TID                                                                      1  \n",
       "titles                                                                   1  \n",
       "EID_V                                       (0.0, 1.0, 0.0, 0.0, 0.0, 0.0)  \n",
       "SEXX_V                                                               (0.0)  \n",
       "DNO_V                             (0.0, 0.0, 0.0, 0.0, 0.0, 0.0, 1.0, 0.0)  \n",
       "LPR_V                                                 (1.0, 0.0, 0.0, 0.0)  \n",
       "Dname_V                           (0.0, 0.0, 0.0, 0.0, 0.0, 0.0, 1.0, 0.0)  \n",
       "titles_V                                    (0.0, 1.0, 0.0, 0.0, 0.0, 0.0)  \n",
       "features                 (282238.0, 6.0, 0.0, 1.0, 0.0, 0.0, 0.0, 0.0, ...  \n",
       "label                                                                    0  "
      ]
     },
     "execution_count": 71,
     "metadata": {},
     "output_type": "execute_result"
    }
   ],
   "source": [
    "pd.DataFrame(df_clean1.take(5), columns=df_clean1.columns).transpose()"
   ]
  },
  {
   "cell_type": "code",
   "execution_count": 72,
   "metadata": {},
   "outputs": [],
   "source": [
    "#Split the dataset\n",
    "train, test = df_clean1.randomSplit( [0.75, 0.25], seed = 40 )"
   ]
  },
  {
   "cell_type": "code",
   "execution_count": 73,
   "metadata": {},
   "outputs": [],
   "source": [
    "#Fitting the Model\n",
    "from pyspark.ml.classification import LogisticRegression\n",
    "lr = LogisticRegression(featuresCol = 'features', labelCol = 'label', maxIter=10)\n",
    "lrModel = lr.fit(train)"
   ]
  },
  {
   "cell_type": "code",
   "execution_count": 74,
   "metadata": {},
   "outputs": [
    {
     "name": "stdout",
     "output_type": "stream",
     "text": [
      "+-----+----------+--------------------+\n",
      "|label|prediction|         probability|\n",
      "+-----+----------+--------------------+\n",
      "|    1|       0.0|[0.89901627153423...|\n",
      "|    0|       0.0|[0.89789155259811...|\n",
      "|    0|       0.0|[0.89827559495358...|\n",
      "|    0|       0.0|[0.89920113998398...|\n",
      "|    0|       0.0|[0.90398634537665...|\n",
      "|    0|       0.0|[0.89726347629702...|\n",
      "|    0|       0.0|[0.90131713709627...|\n",
      "|    0|       0.0|[0.90050800591109...|\n",
      "|    0|       0.0|[0.89639151666387...|\n",
      "|    0|       0.0|[0.89462370657688...|\n",
      "+-----+----------+--------------------+\n",
      "only showing top 10 rows\n",
      "\n"
     ]
    }
   ],
   "source": [
    "y_pred = lrModel.transform(test)\n",
    "y_pred.select( 'label', 'prediction', 'probability').show(10)"
   ]
  },
  {
   "cell_type": "code",
   "execution_count": 75,
   "metadata": {},
   "outputs": [
    {
     "name": "stdout",
     "output_type": "stream",
     "text": [
      "Accuracy_test :  0.9012400943681568\n"
     ]
    }
   ],
   "source": [
    "#calculating accuracy\n",
    "accuracy_test = y_pred.filter(y_pred.label == y_pred.prediction).count() / float(y_pred.count())\n",
    "print(\"Accuracy_test : \",accuracy_test)"
   ]
  },
  {
   "cell_type": "code",
   "execution_count": 76,
   "metadata": {},
   "outputs": [
    {
     "data": {
      "text/plain": [
       "0.09875990563184323"
      ]
     },
     "execution_count": 76,
     "metadata": {},
     "output_type": "execute_result"
    }
   ],
   "source": [
    "error=1-accuracy_test\n",
    "error"
   ]
  },
  {
   "cell_type": "markdown",
   "metadata": {},
   "source": [
    "I was able to fit a Logistic Regression model with 90% accuracy"
   ]
  },
  {
   "cell_type": "code",
   "execution_count": null,
   "metadata": {},
   "outputs": [],
   "source": []
  }
 ],
 "metadata": {
  "kernelspec": {
   "display_name": "Python 3",
   "language": "python",
   "name": "python3"
  },
  "language_info": {
   "codemirror_mode": {
    "name": "ipython",
    "version": 3
   },
   "file_extension": ".py",
   "mimetype": "text/x-python",
   "name": "python",
   "nbconvert_exporter": "python",
   "pygments_lexer": "ipython3",
   "version": "3.7.6"
  }
 },
 "nbformat": 4,
 "nbformat_minor": 4
}
